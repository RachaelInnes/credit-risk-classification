{
 "cells": [
  {
   "cell_type": "code",
   "execution_count": 44,
   "metadata": {},
   "outputs": [],
   "source": [
    "# Import the modules\n",
    "import numpy as np\n",
    "import pandas as pd\n",
    "from pathlib import Path\n",
    "from sklearn.metrics import confusion_matrix, classification_report\n",
    "from sklearn.linear_model import LogisticRegression"
   ]
  },
  {
   "attachments": {},
   "cell_type": "markdown",
   "metadata": {},
   "source": [
    "---"
   ]
  },
  {
   "attachments": {},
   "cell_type": "markdown",
   "metadata": {},
   "source": [
    "## Split the Data into Training and Testing Sets"
   ]
  },
  {
   "attachments": {},
   "cell_type": "markdown",
   "metadata": {},
   "source": [
    "### Step 1: Read the `lending_data.csv` data from the `Resources` folder into a Pandas DataFrame."
   ]
  },
  {
   "cell_type": "code",
   "execution_count": 35,
   "metadata": {},
   "outputs": [
    {
     "name": "stdout",
     "output_type": "stream",
     "text": [
      "   loan_size  interest_rate  borrower_income  debt_to_income  num_of_accounts  derogatory_marks  total_debt  loan_status\n",
      "0    10700.0          7.672            52800        0.431818                5                 1       22800            0\n",
      "1     8400.0          6.692            43600        0.311927                3                 0       13600            0\n",
      "2     9000.0          6.963            46100        0.349241                3                 0       16100            0\n",
      "3    10700.0          7.664            52700        0.430740                5                 1       22700            0\n",
      "4    10800.0          7.698            53000        0.433962                5                 1       23000            0\n"
     ]
    }
   ],
   "source": [
    "# Path to the CSV file\n",
    "file_path = r'C:\\Users\\rinnes\\credit-risk-classification\\Credit_Risk\\Resources\\lending_data.csv'\n",
    "\n",
    "# Read the CSV file into a DataFrame\n",
    "lending_data_df = pd.read_csv(file_path)\n",
    "\n",
    "#Display the first few rows of the data frame\n",
    "print(lending_data_df.head())\n"
   ]
  },
  {
   "attachments": {},
   "cell_type": "markdown",
   "metadata": {},
   "source": [
    "### Step 2: Create the labels set (`y`)  from the “loan_status” column, and then create the features (`X`) DataFrame from the remaining columns."
   ]
  },
  {
   "cell_type": "code",
   "execution_count": 36,
   "metadata": {},
   "outputs": [
    {
     "name": "stdout",
     "output_type": "stream",
     "text": [
      "   loan_size  interest_rate  borrower_income  debt_to_income  num_of_accounts  derogatory_marks  total_debt\n",
      "0    10700.0          7.672            52800        0.431818                5                 1       22800\n",
      "1     8400.0          6.692            43600        0.311927                3                 0       13600\n",
      "2     9000.0          6.963            46100        0.349241                3                 0       16100\n",
      "3    10700.0          7.664            52700        0.430740                5                 1       22700\n",
      "4    10800.0          7.698            53000        0.433962                5                 1       23000\n",
      "0    0\n",
      "1    0\n",
      "2    0\n",
      "3    0\n",
      "4    0\n",
      "Name: loan_status, dtype: int64\n"
     ]
    }
   ],
   "source": [
    "# Separate the y variable, the labels\n",
    "y = lending_data_df['loan_status']\n",
    "\n",
    "# Separate the X variable, the features\n",
    "X = lending_data_df.drop(columns=['loan_status'])\n",
    "\n",
    "# Display the first few rows of X and y to verify\n",
    "print(X.head())\n",
    "print(y.head())\n"
   ]
  },
  {
   "cell_type": "code",
   "execution_count": 43,
   "metadata": {},
   "outputs": [
    {
     "name": "stdout",
     "output_type": "stream",
     "text": [
      "0    0\n",
      "1    0\n",
      "2    0\n",
      "3    0\n",
      "4    0\n",
      "Name: loan_status, dtype: int64\n"
     ]
    }
   ],
   "source": [
    "# Review the y variable Series\n",
    "# Display the first few rows of the y variable\n",
    "print(y.head())"
   ]
  },
  {
   "cell_type": "code",
   "execution_count": 41,
   "metadata": {},
   "outputs": [
    {
     "name": "stdout",
     "output_type": "stream",
     "text": [
      "count    77536.000000\n",
      "mean         0.032243\n",
      "std          0.176646\n",
      "min          0.000000\n",
      "25%          0.000000\n",
      "50%          0.000000\n",
      "75%          0.000000\n",
      "max          1.000000\n",
      "Name: loan_status, dtype: float64\n"
     ]
    }
   ],
   "source": [
    "# Display basic statistics of the y variable\n",
    "print(y.describe())"
   ]
  },
  {
   "cell_type": "code",
   "execution_count": 42,
   "metadata": {},
   "outputs": [
    {
     "name": "stdout",
     "output_type": "stream",
     "text": [
      "loan_status\n",
      "0    75036\n",
      "1     2500\n",
      "Name: count, dtype: int64\n"
     ]
    }
   ],
   "source": [
    "# Display the value counts of the y variable\n",
    "print(y.value_counts())\n"
   ]
  },
  {
   "cell_type": "code",
   "execution_count": 38,
   "metadata": {},
   "outputs": [
    {
     "name": "stdout",
     "output_type": "stream",
     "text": [
      "   loan_size  interest_rate  borrower_income  debt_to_income  num_of_accounts  derogatory_marks  total_debt\n",
      "0    10700.0          7.672            52800        0.431818                5                 1       22800\n",
      "1     8400.0          6.692            43600        0.311927                3                 0       13600\n",
      "2     9000.0          6.963            46100        0.349241                3                 0       16100\n",
      "3    10700.0          7.664            52700        0.430740                5                 1       22700\n",
      "4    10800.0          7.698            53000        0.433962                5                 1       23000\n"
     ]
    }
   ],
   "source": [
    "# Review the X variable DataFrame\n",
    "# Display the first few rows of the X DataFrame\n",
    "print(X.head())"
   ]
  },
  {
   "cell_type": "code",
   "execution_count": 39,
   "metadata": {},
   "outputs": [
    {
     "name": "stdout",
     "output_type": "stream",
     "text": [
      "          loan_size  interest_rate  borrower_income  debt_to_income  num_of_accounts  derogatory_marks    total_debt\n",
      "count  77536.000000   77536.000000     77536.000000    77536.000000     77536.000000      77536.000000  77536.000000\n",
      "mean    9805.562577       7.292333     49221.949804        0.377318         3.826610          0.392308  19221.949804\n",
      "std     2093.223153       0.889495      8371.635077        0.081519         1.904426          0.582086   8371.635077\n",
      "min     5000.000000       5.250000     30000.000000        0.000000         0.000000          0.000000      0.000000\n",
      "25%     8700.000000       6.825000     44800.000000        0.330357         3.000000          0.000000  14800.000000\n",
      "50%     9500.000000       7.172000     48100.000000        0.376299         4.000000          0.000000  18100.000000\n",
      "75%    10400.000000       7.528000     51400.000000        0.416342         4.000000          1.000000  21400.000000\n",
      "max    23800.000000      13.235000    105200.000000        0.714829        16.000000          3.000000  75200.000000\n"
     ]
    }
   ],
   "source": [
    "# Display basic statistics of the X DataFrame\n",
    "\n",
    "print(X.describe())"
   ]
  },
  {
   "cell_type": "code",
   "execution_count": 40,
   "metadata": {},
   "outputs": [
    {
     "name": "stdout",
     "output_type": "stream",
     "text": [
      "<class 'pandas.core.frame.DataFrame'>\n",
      "RangeIndex: 77536 entries, 0 to 77535\n",
      "Data columns (total 7 columns):\n",
      " #   Column            Non-Null Count  Dtype  \n",
      "---  ------            --------------  -----  \n",
      " 0   loan_size         77536 non-null  float64\n",
      " 1   interest_rate     77536 non-null  float64\n",
      " 2   borrower_income   77536 non-null  int64  \n",
      " 3   debt_to_income    77536 non-null  float64\n",
      " 4   num_of_accounts   77536 non-null  int64  \n",
      " 5   derogatory_marks  77536 non-null  int64  \n",
      " 6   total_debt        77536 non-null  int64  \n",
      "dtypes: float64(3), int64(4)\n",
      "memory usage: 4.1 MB\n",
      "None\n"
     ]
    }
   ],
   "source": [
    "# Display information about the X DataFrame (e.g., column names, non-null counts, data types)\n",
    "print(X.info())"
   ]
  },
  {
   "cell_type": "code",
   "execution_count": 30,
   "metadata": {},
   "outputs": [
    {
     "name": "stdout",
     "output_type": "stream",
     "text": [
      "Index(['loan_size', 'interest_rate', 'borrower_income', 'debt_to_income', 'num_of_accounts', 'derogatory_marks', 'total_debt'], dtype='object')\n"
     ]
    }
   ],
   "source": [
    "# Display the column names of the X DataFrame\n",
    "print(X.columns)"
   ]
  },
  {
   "cell_type": "code",
   "execution_count": 31,
   "metadata": {},
   "outputs": [
    {
     "name": "stdout",
     "output_type": "stream",
     "text": [
      "(77536, 7)\n"
     ]
    }
   ],
   "source": [
    "# Display the shape of the X DataFrame (number of rows and columns)\n",
    "print(X.shape)"
   ]
  },
  {
   "attachments": {},
   "cell_type": "markdown",
   "metadata": {},
   "source": [
    "### Step 3: Split the data into training and testing datasets by using `train_test_split`."
   ]
  },
  {
   "cell_type": "code",
   "execution_count": 45,
   "metadata": {},
   "outputs": [
    {
     "name": "stdout",
     "output_type": "stream",
     "text": [
      "X_train shape: (62028, 7)\n",
      "X_test shape: (15508, 7)\n",
      "y_train shape: (62028,)\n",
      "y_test shape: (15508,)\n"
     ]
    }
   ],
   "source": [
    "# Split the data into training and testing sets with random_state=1\n",
    "X_train, X_test, y_train, y_test = train_test_split(X, y, test_size=0.2, random_state=1)\n",
    "\n",
    "# Display the shapes of the resulting datasets\n",
    "print(f'X_train shape: {X_train.shape}')\n",
    "print(f'X_test shape: {X_test.shape}')\n",
    "print(f'y_train shape: {y_train.shape}')\n",
    "print(f'y_test shape: {y_test.shape}')\n"
   ]
  },
  {
   "attachments": {},
   "cell_type": "markdown",
   "metadata": {},
   "source": [
    "---"
   ]
  },
  {
   "attachments": {},
   "cell_type": "markdown",
   "metadata": {},
   "source": [
    "## Create a Logistic Regression Model with the Original Data"
   ]
  },
  {
   "attachments": {},
   "cell_type": "markdown",
   "metadata": {},
   "source": [
    "###  Step 1: Fit a logistic regression model by using the training data (`X_train` and `y_train`)."
   ]
  },
  {
   "cell_type": "code",
   "execution_count": 32,
   "metadata": {},
   "outputs": [
    {
     "name": "stdout",
     "output_type": "stream",
     "text": [
      "Model coefficients: [[-1.07343332e-05 -1.11821247e-07 -3.86442644e-04 -2.57250652e-09\n",
      "   1.61411871e-07  5.41492664e-08  6.42898333e-04]]\n",
      "Model intercept: [-3.43113659e-08]\n"
     ]
    }
   ],
   "source": [
    "# Instantiate the Logistic Regression model with random_state=1\n",
    "logistic_model = LogisticRegression(random_state=1)\n",
    "\n",
    "# Fit the model using the training data\n",
    "logistic_model.fit(X_train, y_train)\n",
    "\n",
    "# Display the model's coefficients\n",
    "print(f'Model coefficients: {logistic_model.coef_}')\n",
    "print(f'Model intercept: {logistic_model.intercept_}')\n",
    "\n"
   ]
  },
  {
   "attachments": {},
   "cell_type": "markdown",
   "metadata": {},
   "source": [
    "### Step 2: Save the predictions on the testing data labels by using the testing feature data (`X_test`) and the fitted model."
   ]
  },
  {
   "cell_type": "code",
   "execution_count": 46,
   "metadata": {},
   "outputs": [
    {
     "name": "stdout",
     "output_type": "stream",
     "text": [
      "[0 0 0 0 0 0 0 0 0 0]\n"
     ]
    }
   ],
   "source": [
    "# Make predictions using the testing feature data\n",
    "y_pred = logistic_model.predict(X_test)\n",
    "\n",
    "# Display the first few predictions\n",
    "print(y_pred[:10])\n"
   ]
  },
  {
   "attachments": {},
   "cell_type": "markdown",
   "metadata": {},
   "source": [
    "### Step 3: Evaluate the model’s performance by doing the following:\n",
    "\n",
    "* Generate a confusion matrix.\n",
    "\n",
    "* Print the classification report."
   ]
  },
  {
   "cell_type": "code",
   "execution_count": 52,
   "metadata": {},
   "outputs": [
    {
     "name": "stdout",
     "output_type": "stream",
     "text": [
      "Confusion Matrix:\n",
      "                 Predicted Negative  Predicted Positive\n",
      "Actual Negative               14926                  75\n",
      "Actual Positive                  46                 461\n"
     ]
    }
   ],
   "source": [
    "# Generate the confusion matrix\n",
    "cm = confusion_matrix(y_test, y_pred)\n",
    "\n",
    "# Create a DataFrame for better visualization\n",
    "cm_df = pd.DataFrame(cm, \n",
    "                     index=['Actual Negative', 'Actual Positive'], \n",
    "                     columns=['Predicted Negative', 'Predicted Positive'])\n",
    "\n",
    "# Display the confusion matrix with headings\n",
    "print(f'Confusion Matrix:\\n{cm_df}')\n"
   ]
  },
  {
   "cell_type": "code",
   "execution_count": 53,
   "metadata": {},
   "outputs": [
    {
     "name": "stdout",
     "output_type": "stream",
     "text": [
      "Classification Report:\n",
      "              precision    recall  f1-score   support\n",
      "\n",
      "           0       1.00      1.00      1.00     15001\n",
      "           1       0.86      0.91      0.88       507\n",
      "\n",
      "    accuracy                           0.99     15508\n",
      "   macro avg       0.93      0.95      0.94     15508\n",
      "weighted avg       0.99      0.99      0.99     15508\n",
      "\n"
     ]
    }
   ],
   "source": [
    "# Print the classification report for the model\n",
    "from sklearn.metrics import classification_report\n",
    "\n",
    "# Generate the classification report\n",
    "report = classification_report(y_test, y_pred)\n",
    "\n",
    "# Display the classification report\n",
    "print(f'Classification Report:\\n{report}')\n"
   ]
  },
  {
   "attachments": {},
   "cell_type": "markdown",
   "metadata": {},
   "source": [
    "### Step 4: Answer the following question."
   ]
  },
  {
   "attachments": {},
   "cell_type": "markdown",
   "metadata": {},
   "source": [
    "**Question:** How well does the logistic regression model predict both the `0` (healthy loan) and `1` (high-risk loan) labels?\n",
    "\n",
    "**Answer:** The model excels in predicting healthy loans with perfect accuracy. For high-risk loans, it does well but occasionally misclassifies some healthy loans as high-risk and misses a few high-risk loans. Despite these small discrepancies, the overall accuracy of 99% indicates that the model is highly effective at predicting both labels, particularly healthy loans."
   ]
  },
  {
   "attachments": {},
   "cell_type": "markdown",
   "metadata": {},
   "source": [
    "---"
   ]
  }
 ],
 "metadata": {
  "kernelspec": {
   "display_name": "Python 3 (ipykernel)",
   "language": "python",
   "name": "python3"
  },
  "language_info": {
   "codemirror_mode": {
    "name": "ipython",
    "version": 3
   },
   "file_extension": ".py",
   "mimetype": "text/x-python",
   "name": "python",
   "nbconvert_exporter": "python",
   "pygments_lexer": "ipython3",
   "version": "3.11.7"
  },
  "vscode": {
   "interpreter": {
    "hash": "31f2aee4e71d21fbe5cf8b01ff0e069b9275f58929596ceb00d14d90e3e16cd6"
   }
  }
 },
 "nbformat": 4,
 "nbformat_minor": 4
}
